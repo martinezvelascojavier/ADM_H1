{
 "cells": [
  {
   "attachments": {},
   "cell_type": "markdown",
   "id": "2e492db8",
   "metadata": {},
   "source": [
    "<h1><center>ADM HOMEWORK 1</center></h1> \n",
    "<left><b>Name:</b> Javier Martínez Velasco</left><br>\n",
    "<left><b>Matricola</b>: 2058968</left>"
   ]
  },
  {
   "cell_type": "markdown",
   "id": "8bf2d493",
   "metadata": {},
   "source": [
    "#### This notebook contains the code details of Problem 1 and Problem 2."
   ]
  },
  {
   "cell_type": "markdown",
   "id": "8695534f",
   "metadata": {},
   "source": [
    "Please note that in some challenges I required checking Hacker's Rank Discussion Forum. Although I remark this fact in every exercise \"affected\" (by #commenting it under the code), I add here a complete list of these exercises, so there is clarity about which are the challenges that I couldn't do entirely on my own:\n",
    "- Text Alignment\n",
    "- The Minion Game\n",
    "- Python sort sort (athlete sort)\n",
    "- Time Delta\n",
    "- Collections.namedtuple()\n",
    "- XML 1 - Find the Score\n",
    "- XML 2 - Find the Maximum Depth\n",
    "- Standardize Mobile Number Using Decorators\n",
    "- Decorators 2: Name Directory\n",
    "- Insertion Sort - Part 2\n",
    "- Regex Substitution\n",
    "- Validating Roman Numerals\n",
    "- Validating Credit Card Numbers   \n",
    "- Validating UID\n",
    "- Hex Color Code \n",
    "- Detect HTML Tags, Attributes and Attribute Values\n",
    "- HTML Parser - Part 1\n",
    "- HTML Parser - Part 2\n",
    "- Validating Postal Codes\n",
    "- Matrix Script"
   ]
  },
  {
   "cell_type": "markdown",
   "id": "f689bce6",
   "metadata": {},
   "source": [
    "<h2><center>Problem 1</center></h2> "
   ]
  },
  {
   "cell_type": "markdown",
   "id": "b0171222",
   "metadata": {},
   "source": [
    "## 1. Introduction"
   ]
  },
  {
   "cell_type": "markdown",
   "id": "dda5810d",
   "metadata": {},
   "source": [
    "#### Say \"Hello, World!\" With Python"
   ]
  },
  {
   "cell_type": "code",
   "execution_count": null,
   "id": "448ed320",
   "metadata": {},
   "outputs": [],
   "source": [
    "if __name__ == '__main__':\n",
    "    print(\"Hello, World!\")\n"
   ]
  },
  {
   "cell_type": "markdown",
   "id": "58b4358c",
   "metadata": {},
   "source": [
    "#### Python If-Else"
   ]
  },
  {
   "cell_type": "code",
   "execution_count": null,
   "id": "d23ee80e",
   "metadata": {},
   "outputs": [],
   "source": [
    "#!/bin/python3\n",
    "\n",
    "import math\n",
    "import os\n",
    "import random\n",
    "import re\n",
    "import sys\n",
    "\n",
    "\n",
    "\n",
    "if __name__ == '__main__':\n",
    "    n = int(input().strip())\n",
    "if n % 2 != 0:\n",
    "    print('Weird')\n",
    "elif n % 2 == 0 and n >= 2 and n <=5:\n",
    "    print('Not Weird')\n",
    "elif n % 2 == 0 and n >= 6 and n <=20:\n",
    "    print('Weird')\n",
    "elif n % 2 == 0 and n > 20 :\n",
    "    print('Not Weird')\n"
   ]
  },
  {
   "cell_type": "markdown",
   "id": "7dcae205",
   "metadata": {},
   "source": [
    "#### Arithmetic Operators"
   ]
  },
  {
   "cell_type": "code",
   "execution_count": null,
   "id": "e3909424",
   "metadata": {},
   "outputs": [],
   "source": [
    "if __name__ == '__main__':\n",
    "    a = int(input())\n",
    "    b = int(input())\n",
    "    print(a+b)\n",
    "    print(a-b)\n",
    "    print(a*b)\n"
   ]
  },
  {
   "cell_type": "markdown",
   "id": "01c807fe",
   "metadata": {},
   "source": [
    "#### Python: Division"
   ]
  },
  {
   "cell_type": "code",
   "execution_count": null,
   "id": "158fdd27",
   "metadata": {},
   "outputs": [],
   "source": [
    "if __name__ == '__main__':\n",
    "    a = int(input())\n",
    "    b = int(input())\n",
    "    print(a//b)\n",
    "    print(a/b)\n"
   ]
  },
  {
   "cell_type": "markdown",
   "id": "4ad7816a",
   "metadata": {},
   "source": [
    "#### Loops"
   ]
  },
  {
   "cell_type": "code",
   "execution_count": null,
   "id": "c60ea073",
   "metadata": {},
   "outputs": [],
   "source": [
    "if __name__ == '__main__':\n",
    "    n = int(input())\n",
    "    for i in range(n):\n",
    "        print(i*i)\n"
   ]
  },
  {
   "cell_type": "markdown",
   "id": "6e3b3a18",
   "metadata": {},
   "source": [
    "#### Write a function"
   ]
  },
  {
   "cell_type": "code",
   "execution_count": null,
   "id": "e72a134b",
   "metadata": {},
   "outputs": [],
   "source": [
    "def is_leap(year):\n",
    "    leap = False\n",
    "    if year % 4 == 0:\n",
    "        if year % 100 == 0 and year % 400 != 0:\n",
    "            leap = False\n",
    "        else:\n",
    "            leap = True     \n",
    "    else: \n",
    "        leap = False\n",
    "    \n",
    "    return leap"
   ]
  },
  {
   "cell_type": "markdown",
   "id": "8401a241",
   "metadata": {},
   "source": [
    "#### Print Function"
   ]
  },
  {
   "cell_type": "code",
   "execution_count": null,
   "id": "c9d78524",
   "metadata": {},
   "outputs": [],
   "source": [
    "if __name__ == '__main__':\n",
    "    n = int(input())\n",
    "    array = []\n",
    "for i in range(1,n+1):\n",
    "    array.append(i)\n",
    "\n",
    "print(*array , sep = \"\" , end = \"\")"
   ]
  },
  {
   "cell_type": "markdown",
   "id": "dbb92751",
   "metadata": {},
   "source": [
    "## 2. Data types"
   ]
  },
  {
   "cell_type": "markdown",
   "id": "c9553673",
   "metadata": {},
   "source": [
    "#### List Comprehensions"
   ]
  },
  {
   "cell_type": "code",
   "execution_count": null,
   "id": "2997080b",
   "metadata": {},
   "outputs": [],
   "source": [
    "if __name__ == '__main__':\n",
    "    x = int(input())\n",
    "    y = int(input())\n",
    "    z = int(input())\n",
    "    n = int(input())\n",
    "    \n",
    "    coordinates = []    \n",
    "    for i in range(x+1): \n",
    "        for j in range(y+1):\n",
    "            for k in range(z+1):\n",
    "                if i+j+k != n: \n",
    "                    lista = [i,j,k]\n",
    "                    coordinates.append(lista)\n",
    "    print(coordinates)   \n",
    "\n",
    "#I didn't know how to solve it applying LC."
   ]
  },
  {
   "cell_type": "markdown",
   "id": "3ae56932",
   "metadata": {},
   "source": [
    "#### Find the Runner-Up Score! "
   ]
  },
  {
   "cell_type": "code",
   "execution_count": null,
   "id": "09f4a6b1",
   "metadata": {},
   "outputs": [],
   "source": [
    "if __name__ == '__main__':\n",
    "    n = int(input())\n",
    "    arr = set(map(int, input().split()))\n",
    "    lista = [ i for i in arr]\n",
    "    lista.sort(reverse = True)\n",
    "    print(lista[1]) "
   ]
  },
  {
   "cell_type": "markdown",
   "id": "a875d65c",
   "metadata": {},
   "source": [
    "#### Nested Lists"
   ]
  },
  {
   "cell_type": "code",
   "execution_count": null,
   "id": "87316e0d",
   "metadata": {},
   "outputs": [],
   "source": [
    "if __name__ == '__main__':\n",
    "    nested = []\n",
    "    scores = []   \n",
    "    for _ in range(int(input())):\n",
    "        name = input()\n",
    "        score = float(input())\n",
    "        student =[name , score]\n",
    "        scores.append(score)\n",
    "        nested.append(student)\n",
    "\n",
    "    non_duplicates = set(scores) #delete dupl. to find the 2nd lowst\n",
    "    ordered = [ i for i in non_duplicates] #again list, to sort()\n",
    "    ordered.sort() #sort the list in ascending order\n",
    "    key = ordered[1] #obtain 2nd lowest\n",
    "    second_lowest = []\n",
    "    for i in nested: #obtain 2nd lowest Names\n",
    "        if i[1] == key:\n",
    "            second_lowest.append(i[0])\n",
    "    alfabethically = sorted(second_lowest)\n",
    "    for i in alfabethically:  #print them in rigth order    \n",
    "        print(i)"
   ]
  },
  {
   "cell_type": "markdown",
   "id": "cbaae666",
   "metadata": {},
   "source": [
    "#### Finding the percentage"
   ]
  },
  {
   "cell_type": "code",
   "execution_count": null,
   "id": "38578110",
   "metadata": {},
   "outputs": [],
   "source": [
    "if __name__ == '__main__':\n",
    "    n = int(input())\n",
    "    student_marks = {}\n",
    "    for _ in range(n):\n",
    "        name, *line = input().split()\n",
    "        scores = list(map(float, line))\n",
    "        student_marks[name] = scores\n",
    "    query_name = input()\n",
    "    average = sum(student_marks[query_name])/len(student_marks[query_name])\n",
    "    print(\"{:.2f}\".format(average))"
   ]
  },
  {
   "cell_type": "markdown",
   "id": "a81df4d9",
   "metadata": {},
   "source": [
    "#### Lists"
   ]
  },
  {
   "cell_type": "code",
   "execution_count": null,
   "id": "c0f03c92",
   "metadata": {},
   "outputs": [],
   "source": [
    "if __name__ == '__main__':\n",
    "    N = int(input())\n",
    "    the_list = []\n",
    "    later_printing = []\n",
    "    for i in range(N): \n",
    "        operation_and_n = input() \n",
    "        obtain_operation = operation_and_n.split()\n",
    "        if obtain_operation[0] in 'print':\n",
    "            later_printing.append(tuple(the_list))\n",
    "        if obtain_operation[0] in 'insert' :\n",
    "            obtain_operation[1] = int(obtain_operation[1])\n",
    "            obtain_operation[2] = int(obtain_operation[2])\n",
    "            the_list.insert(obtain_operation[1],obtain_operation[2])\n",
    "        if obtain_operation[0] in 'remove' :\n",
    "            obtain_operation[1] = int(obtain_operation[1])\n",
    "            the_list.remove(obtain_operation[1])\n",
    "        if obtain_operation[0] in 'append' :\n",
    "            obtain_operation[1] = int(obtain_operation[1])\n",
    "            the_list.append(obtain_operation[1])\n",
    "        if obtain_operation[0] in 'sort' :\n",
    "            the_list = list(map(int, the_list))\n",
    "            the_list.sort()\n",
    "        if obtain_operation[0] in 'pop' :\n",
    "            the_list.pop()\n",
    "        if obtain_operation[0] in 'reverse' :\n",
    "            the_list.reverse()\n",
    "        \n",
    "    for i in later_printing:\n",
    "        print(list(i))\n",
    "\n"
   ]
  },
  {
   "cell_type": "markdown",
   "id": "64f31dc0",
   "metadata": {},
   "source": [
    "#### Tuples"
   ]
  },
  {
   "cell_type": "code",
   "execution_count": null,
   "id": "0b3a8103",
   "metadata": {},
   "outputs": [],
   "source": [
    "if __name__ == '__main__':\n",
    "    n = int(input())\n",
    "    integer_list = list(map(int, input().split()))\n",
    "    print(hash(tuple(integer_list)))"
   ]
  },
  {
   "cell_type": "markdown",
   "id": "755dcf50",
   "metadata": {},
   "source": [
    "## 3. Strings"
   ]
  },
  {
   "cell_type": "markdown",
   "id": "298d52ae",
   "metadata": {},
   "source": [
    "#### sWAP cASE"
   ]
  },
  {
   "cell_type": "code",
   "execution_count": null,
   "id": "2e05c022",
   "metadata": {},
   "outputs": [],
   "source": [
    "def swap_case(s):\n",
    "    swaped = []\n",
    "    for i in s:\n",
    "        if i.isupper():\n",
    "            swaped.append(i.lower())\n",
    "        else:\n",
    "            swaped.append(i.upper())\n",
    "\n",
    "    return \"\".join(swaped)"
   ]
  },
  {
   "cell_type": "markdown",
   "id": "b1724952",
   "metadata": {},
   "source": [
    "#### String Split and Join"
   ]
  },
  {
   "cell_type": "code",
   "execution_count": null,
   "id": "6aa13e21",
   "metadata": {},
   "outputs": [],
   "source": [
    "def split_and_join(line):\n",
    "    return \"-\".join(line.split(\" \"))\n",
    "    \n",
    "\n",
    "if __name__ == '__main__':\n",
    "    line = input()\n",
    "    result = split_and_join(line)\n",
    "    print(result)\n",
    "\n"
   ]
  },
  {
   "cell_type": "markdown",
   "id": "fd98d4a3",
   "metadata": {},
   "source": [
    "#### What's Your Name?"
   ]
  },
  {
   "cell_type": "code",
   "execution_count": null,
   "id": "ad6c251b",
   "metadata": {},
   "outputs": [],
   "source": [
    "def print_full_name(first, last):\n",
    "    first , last = first , last\n",
    "    print(\"Hello \" + first + \" \" + last + \"! You just delved into python.\")"
   ]
  },
  {
   "cell_type": "markdown",
   "id": "ac39ff1e",
   "metadata": {},
   "source": [
    "#### Mutations"
   ]
  },
  {
   "cell_type": "code",
   "execution_count": null,
   "id": "93153d6b",
   "metadata": {},
   "outputs": [],
   "source": [
    "def mutate_string(string, position, character):\n",
    "    return string[0:position] + character + string[position+1:]"
   ]
  },
  {
   "cell_type": "markdown",
   "id": "0b401997",
   "metadata": {},
   "source": [
    "#### Find a string"
   ]
  },
  {
   "cell_type": "code",
   "execution_count": null,
   "id": "5042521d",
   "metadata": {},
   "outputs": [],
   "source": [
    "def count_substring(string, sub_string):\n",
    "    count = 0\n",
    "    for i in range(len(string)):\n",
    "        if string[i:i+len(sub_string)] == sub_string:\n",
    "            count += 1\n",
    "    return  count"
   ]
  },
  {
   "cell_type": "markdown",
   "id": "4e119487",
   "metadata": {},
   "source": [
    "#### String Validators"
   ]
  },
  {
   "cell_type": "code",
   "execution_count": null,
   "id": "fa37601c",
   "metadata": {},
   "outputs": [],
   "source": [
    "if __name__ == '__main__':\n",
    "    s = input()\n",
    "alfanum = False\n",
    "for i in range(len(s)):\n",
    "        if s[i].isalnum():\n",
    "            alfanum = True\n",
    "            break\n",
    "alfa = False\n",
    "for i in range(len(s)):\n",
    "        if s[i].isalpha():\n",
    "            alfa = True\n",
    "            break\n",
    "digit = False        \n",
    "for i in range(len(s)):\n",
    "        if s[i].isdigit():\n",
    "            digit = True\n",
    "            break\n",
    "lower = False\n",
    "for i in range(len(s)):\n",
    "        if s[i].islower():\n",
    "            lower = True\n",
    "            break\n",
    "upper = False\n",
    "for i in range(len(s)):\n",
    "        if s[i].isupper():\n",
    "            upper = True\n",
    "            break\n",
    "print(alfanum)\n",
    "print(alfa)\n",
    "print(digit)\n",
    "print(lower)\n",
    "print(upper)"
   ]
  },
  {
   "cell_type": "markdown",
   "id": "66463c5c",
   "metadata": {},
   "source": [
    "#### Text Alignment"
   ]
  },
  {
   "cell_type": "code",
   "execution_count": null,
   "id": "4140329e",
   "metadata": {},
   "outputs": [],
   "source": [
    "thickness = int(input()) #This must be an odd number\n",
    "c = 'H'\n",
    "\n",
    "#Top Cone\n",
    "for i in range(thickness):\n",
    "    print((c*i).rjust(thickness-1)+c+(c*i).ljust(thickness-1))\n",
    "\n",
    "#Top Pillars\n",
    "for i in range(thickness+1):\n",
    "    print((c*thickness).center(thickness*2)+(c*thickness).center(thickness*6))\n",
    "\n",
    "#Middle Belt\n",
    "for i in range((thickness+1)//2):\n",
    "    print((c*thickness*5).center(thickness*6))    \n",
    "\n",
    "#Bottom Pillars\n",
    "for i in range(thickness+1):\n",
    "    print((c*thickness).center(thickness*2)+(c*thickness).center(thickness*6))    \n",
    "\n",
    "#Bottom Cone\n",
    "for i in range(thickness):\n",
    "    print(((c*(thickness-i-1)).rjust(thickness)+c+(c*(thickness-i-1)).ljust(thickness)).rjust(thickness*6))\n",
    "\n",
    "    \n",
    "\n",
    "#I needed to check te Discussion Forum because I could only match the first Test Case.\n",
    "#My original code was this:\n",
    "\n",
    "#n = int(input())\n",
    "\n",
    "##ARROW\n",
    "\n",
    "#odd_numbers = [i for i in range(50) if i % 2 != 0] \n",
    "#adjustment = [i for i in range(3,-22,-1)]\n",
    "#numbers = [i for i in range(n + adjustment[odd_numbers.index(n)])]\n",
    "#start = odd_numbers.index(n)\n",
    "#rango = list(range(n- (start-2),n+5))\n",
    "#for i in range(n):\n",
    "#    print(('H'*i).rjust(n-1)+'H'+('H'*i).ljust(n-1))\n",
    "        \n",
    "##SECOND SECTION\n",
    "\n",
    "#for i in range(6):\n",
    "#    print(\"  \".ljust(n+2,\"H\")+ \"               \" + \"  \".rjust(n+2,\"H\"))\n",
    "\n",
    "##THIRD SECTION\n",
    "\n",
    "#for i in range(odd_numbers.index(n)+1):\n",
    "#    print(\"  \".ljust(n+2,\"H\")+ \"HHHHHHHHHHHHHHH\" + \"  \".rjust(n+2,\"H\"))\n",
    "    \n",
    "##FOURTH SECTION\n",
    "\n",
    "\n",
    "#for i in range(6):\n",
    "#    print(\"  \".ljust(n+2,\"H\")+ \"               \" + \"  \".rjust(n+2,\"H\"))\n",
    "    \n",
    "##INVERTED ARROW\n",
    "\n",
    "#for i in range(n):\n",
    "#    print((('H'*(n-i-1)).rjust(n)+'H'+('H'*(n-i-1)).ljust(n)).rjust(n*6))"
   ]
  },
  {
   "cell_type": "markdown",
   "id": "2e7fe8f0",
   "metadata": {},
   "source": [
    "#### Text Wrap"
   ]
  },
  {
   "cell_type": "code",
   "execution_count": null,
   "id": "5acbaa48",
   "metadata": {},
   "outputs": [],
   "source": [
    "def wrap(string, max_width):\n",
    "    slicer = [i for i in range(0,len(string)+1,max_width)]\n",
    "    slicer2 = [i for i in range(0,len(string)+max_width,max_width)]\n",
    "    lista = []\n",
    "    for i in range(len(slicer)):\n",
    "        text = string[slicer2[i]:(slicer2[i+1])]\n",
    "        lista.append(text)\n",
    "    for i in lista:\n",
    "        return '\\n'.join(lista)"
   ]
  },
  {
   "cell_type": "markdown",
   "id": "ab4ce938",
   "metadata": {},
   "source": [
    "#### Designer Door Mat"
   ]
  },
  {
   "cell_type": "code",
   "execution_count": null,
   "id": "921d6ab5",
   "metadata": {},
   "outputs": [],
   "source": [
    "# Enter your code here. Read input from STDIN. Print output to STDOUT\n",
    "n, m = list(map(int, input().split()))\n",
    "all_odds = [i for i in range(102) if i % 2 != 0] \n",
    "odd_numbers = [i for i in range(5,102) if i % 2 != 0] \n",
    "number_of_lines = [i for i in range(2,51) ] \n",
    "lines = number_of_lines[odd_numbers.index(n)]\n",
    "\n",
    "#FIRST BLOCK\n",
    "for i in range(lines):\n",
    "    print(('.|.'*all_odds[i]).center(m,'-'))\n",
    "\n",
    "#SECOND BLOCK\n",
    "print('WELCOME'.center(m,'-'))\n",
    "\n",
    "#THIRD BLOCK\n",
    "line = [i for i in range(lines) ] \n",
    "line.reverse()\n",
    "\n",
    "for i in line:\n",
    "    print(('.|.'*all_odds[i]).center(m,'-'))"
   ]
  },
  {
   "cell_type": "markdown",
   "id": "b2cbcf90",
   "metadata": {},
   "source": [
    "#### String Formatting"
   ]
  },
  {
   "cell_type": "code",
   "execution_count": null,
   "id": "d994bd3e",
   "metadata": {},
   "outputs": [],
   "source": [
    "def print_formatted(number):\n",
    "    lista = [i for i in range(1,number+1)]\n",
    "    medida = len(bin(number))-2 #to adjust the proper positioning of the bin number\n",
    "    for i in lista:\n",
    "        numb , octa , hexa , bina = str(i) , str(oct(i)) , str(hex(i)) , str(bin(i))\n",
    "        print(numb.rjust(medida, \" \"),octa[2:].rjust(medida, \" \"),hexa[2:].upper().rjust(medida, \" \"),bina[2:].rjust(medida,\" \"))"
   ]
  },
  {
   "cell_type": "markdown",
   "id": "b7204f4b",
   "metadata": {},
   "source": [
    "#### Alphabet Rangoli"
   ]
  },
  {
   "cell_type": "code",
   "execution_count": null,
   "id": "64a61c60",
   "metadata": {},
   "outputs": [],
   "source": [
    "def print_rangoli(size):\n",
    "    abc = ['a', 'b', 'c', 'd', 'e', 'f', 'g', 'h', 'i', 'j', 'k', 'l', 'm', 'n', 'o', 'p', 'q', 'r', 's', 't', 'u', 'v', 'w', 'x', 'y', 'z','9']   \n",
    "    new_abc = [abc[i] for i in range(len(abc)) if abc.index(abc[i]) < abc.index(abc[size])]   \n",
    "    new_abc_reversed = new_abc.copy() \n",
    "    new_abc_reversed.reverse()\n",
    "\n",
    "    for i in range(len(new_abc_reversed)):\n",
    "        ex = list(new_abc_reversed[0:i])\n",
    "        new = ex.copy() \n",
    "        new.reverse()\n",
    "        joined = ex[:-1] + new\n",
    "        if len(joined) != 0:\n",
    "            chain = \"-\".join(joined)\n",
    "            print(chain.center(4*size-3,'-'))\n",
    "        \n",
    "    joind =  new_abc_reversed[:-1] + new_abc\n",
    "    chains = \"-\".join(joind)\n",
    "    print(chains.center(4*size-3,'-'))\n",
    "\n",
    "    for i in range(len(new_abc_reversed)):\n",
    "        ex = list(new_abc_reversed[0:-i-1])\n",
    "        new = ex.copy() \n",
    "        new.reverse()\n",
    "        joined = ex[:-1] + new\n",
    "        if len(joined) != 0:\n",
    "            chain = \"-\".join(joined)\n",
    "            print(chain.center(4*size-3,'-'))"
   ]
  },
  {
   "cell_type": "markdown",
   "id": "e0ce5142",
   "metadata": {},
   "source": [
    "#### Capitalize!"
   ]
  },
  {
   "cell_type": "code",
   "execution_count": null,
   "id": "8afb33dd",
   "metadata": {},
   "outputs": [],
   "source": [
    "\n",
    "\n",
    "# Complete the solve function below.\n",
    "def solve(s):\n",
    "    name = s.split(\" \")\n",
    "    names = []\n",
    "    for i in name:\n",
    "        names.append(i.capitalize())\n",
    "    return(\" \".join(names))\n"
   ]
  },
  {
   "cell_type": "markdown",
   "id": "e6861b93",
   "metadata": {},
   "source": [
    "#### The Minion Game"
   ]
  },
  {
   "cell_type": "code",
   "execution_count": null,
   "id": "20372d37",
   "metadata": {},
   "outputs": [],
   "source": [
    "def minion_game(string):\n",
    "    vowels = ['A','E','I','O','U']\n",
    "    letters = len(s)\n",
    "    stuart = 0\n",
    "    kevin = 0\n",
    "    \n",
    "    for i in s:\n",
    "        if i in vowels:\n",
    "            kevin+= letters\n",
    "        else:\n",
    "            stuart += letters\n",
    "        letters -= 1\n",
    "\n",
    "    if kevin > stuart:\n",
    "        print('Kevin '+ str(kevin))\n",
    "    elif stuart > kevin:\n",
    "        print('Stuart '+ str(stuart))\n",
    "    else:\n",
    "        print('Draw')\n",
    "\n",
    "#I checked this code in the Discussion Forum because I could pass 2 of the sample cases..\n",
    "#My original code was:\n",
    "#def minion_game(string):\n",
    "#    vowels = ['A','E','I','O','U']\n",
    "#    letters = len(s)\n",
    "#    stuart = 0\n",
    "#    kevin = 0    \n",
    "#    for i in s:\n",
    "#        if i in vowels:\n",
    "#            kevin+= letters\n",
    "#        else:\n",
    "#            stuart += letters\n",
    "#        letters -= 1\n",
    "\n",
    "#    if kevin > stuart:\n",
    "#        print('Kevin '+ str(kevin))\n",
    "#    elif stuart > kevin:\n",
    "#        print('Stuart '+ str(stuart))\n",
    "#    else:\n",
    "#        print('DRAW')\n",
    "\n"
   ]
  },
  {
   "cell_type": "markdown",
   "id": "ed1c2899",
   "metadata": {},
   "source": [
    "#### Merge the Tools!"
   ]
  },
  {
   "cell_type": "code",
   "execution_count": null,
   "id": "320c3e48",
   "metadata": {},
   "outputs": [],
   "source": [
    "def merge_the_tools(string, k):\n",
    "    length = len(string)\n",
    "    count = 0\n",
    "    letters = []\n",
    "    for i in range(0,len(string),k): #iterate over indexes 0,3,6,9\n",
    "         letters.append(string[i:i+k]) #prints  0 to 2,  3 to 5 and 6 to 8.   \n",
    "\n",
    "    for i in range(len(letters)): #0,1\n",
    "        new_list = letters[i].split()\n",
    "        definitive = \"\".join(new_list[0])\n",
    "        resc = list(definitive)\n",
    "        duplicates = []\n",
    "        for j in resc:\n",
    "            if j not in duplicates:\n",
    "                duplicates.append(j)\n",
    "        print(\"\".join(duplicates))"
   ]
  },
  {
   "cell_type": "markdown",
   "id": "077b4768",
   "metadata": {},
   "source": [
    "## 4. Sets"
   ]
  },
  {
   "cell_type": "markdown",
   "id": "0c2ef7c2",
   "metadata": {},
   "source": [
    "#### Introduction to Sets"
   ]
  },
  {
   "cell_type": "code",
   "execution_count": 4,
   "id": "b7f64b65",
   "metadata": {},
   "outputs": [],
   "source": [
    "def average(array):\n",
    "    set_average = set(arr)\n",
    "    return sum(set_average)/len(set_average)"
   ]
  },
  {
   "cell_type": "markdown",
   "id": "4947db46",
   "metadata": {},
   "source": [
    "#### No Idea!"
   ]
  },
  {
   "cell_type": "code",
   "execution_count": null,
   "id": "326ed7c6",
   "metadata": {},
   "outputs": [],
   "source": [
    "n_m = input()\n",
    "check = list(map(int,input().split()))\n",
    "A = set(list(map(int,input().split())))\n",
    "B = set(list(map(int,input().split())))\n",
    "happiness = 0\n",
    "\n",
    "for i in check:\n",
    "    if i in A:\n",
    "        happiness += 1\n",
    "    if i in B:\n",
    "        happiness -= 1\n",
    "    else:\n",
    "        pass\n",
    "print(happiness)"
   ]
  },
  {
   "cell_type": "markdown",
   "id": "d1da915a",
   "metadata": {},
   "source": [
    "#### Symmetric Difference"
   ]
  },
  {
   "cell_type": "code",
   "execution_count": null,
   "id": "b311699f",
   "metadata": {},
   "outputs": [],
   "source": [
    "nA = int(input())\n",
    "A = set(list(map(int,input().split())))\n",
    "nB = int(input())\n",
    "B = set(list(map(int,input().split())))\n",
    "answer = A.symmetric_difference(B)\n",
    "\n",
    "for i in sorted(answer):\n",
    "    print(i)"
   ]
  },
  {
   "cell_type": "markdown",
   "id": "7ca7e091",
   "metadata": {},
   "source": [
    "#### Set .add() "
   ]
  },
  {
   "cell_type": "code",
   "execution_count": null,
   "id": "8c25e56a",
   "metadata": {},
   "outputs": [],
   "source": [
    "n = int(input())\n",
    "set_a = set(\"\")\n",
    "for i in range(n):\n",
    "    country = input()\n",
    "    set_a.add(country)\n",
    "print(len(set_a))"
   ]
  },
  {
   "cell_type": "markdown",
   "id": "fe06a69a",
   "metadata": {},
   "source": [
    "#### Set .discard(), .remove() & .pop()"
   ]
  },
  {
   "cell_type": "code",
   "execution_count": null,
   "id": "8dff3a5a",
   "metadata": {},
   "outputs": [],
   "source": [
    "n = int(input())\n",
    "A = set(map(int, input().split()))\n",
    "commands = int(input())\n",
    "\n",
    "for i in range(commands): \n",
    "    operation_and_n = input() \n",
    "    obtain_operation = operation_and_n.split()\n",
    "    if obtain_operation[0] in 'remove' :\n",
    "        obtain_operation[1] = int(obtain_operation[1])\n",
    "        A.remove(obtain_operation[1])\n",
    "    if obtain_operation[0] in 'pop' :\n",
    "        A.pop()\n",
    "    if obtain_operation[0] in 'discard' :\n",
    "        obtain_operation[1] = int(obtain_operation[1])\n",
    "        A.discard(obtain_operation[1])\n",
    "print(sum(A))\n"
   ]
  },
  {
   "cell_type": "markdown",
   "id": "f64b9af9",
   "metadata": {},
   "source": [
    "#### Set .union() Operation"
   ]
  },
  {
   "cell_type": "code",
   "execution_count": null,
   "id": "fc7b61be",
   "metadata": {},
   "outputs": [],
   "source": [
    "total_english , english_ids , total_french , french_ids= input() , input() , input() , input()\n",
    "english , french = list(english_ids.split(\" \")) , list(french_ids.split(\" \"))\n",
    "english = set(list(english))\n",
    "french = set(list(french))\n",
    "print(len(english.union(french)))"
   ]
  },
  {
   "cell_type": "markdown",
   "id": "3c3abade",
   "metadata": {},
   "source": [
    "#### Set .intersection() Operation"
   ]
  },
  {
   "cell_type": "code",
   "execution_count": null,
   "id": "925793d1",
   "metadata": {},
   "outputs": [],
   "source": [
    "total_english , english_ids , total_french , french_ids= input() , input() , input() , input()\n",
    "#total_english , english_ids , total_french , french_ids= '9' , '1 2 3 4 5 6 7 8 9' , '9' , '10 1 2 3 11 21 55 6 8'\n",
    "english , french = list(english_ids.split(\" \")) , list(french_ids.split(\" \"))\n",
    "english = set(list(english))\n",
    "french = set(list(french))\n",
    "print(len(english.intersection(french)))"
   ]
  },
  {
   "cell_type": "markdown",
   "id": "3c9007c0",
   "metadata": {},
   "source": [
    "#### Set .difference() Operation"
   ]
  },
  {
   "cell_type": "code",
   "execution_count": null,
   "id": "b75b3442",
   "metadata": {},
   "outputs": [],
   "source": [
    "total_english , english_ids , total_french , french_ids= input() , input() , input() , input()\n",
    "english , french = list(english_ids.split(\" \")) , list(french_ids.split(\" \"))\n",
    "english = set(list(english))\n",
    "french = set(list(french))\n",
    "print(len(english.difference(french)))\n"
   ]
  },
  {
   "cell_type": "markdown",
   "id": "0c700c4e",
   "metadata": {},
   "source": [
    "#### Set .symmetric_difference() Operation"
   ]
  },
  {
   "cell_type": "code",
   "execution_count": null,
   "id": "67f86968",
   "metadata": {},
   "outputs": [],
   "source": [
    "total_english , english_ids , total_french , french_ids= input() , input() , input() , input()\n",
    "english , french = list(english_ids.split(\" \")) , list(french_ids.split(\" \"))\n",
    "english = set(list(english))\n",
    "french = set(list(french))\n",
    "print(len(english.symmetric_difference(french)))\n"
   ]
  },
  {
   "cell_type": "markdown",
   "id": "700387bf",
   "metadata": {},
   "source": [
    "#### Set Mutations"
   ]
  },
  {
   "cell_type": "code",
   "execution_count": null,
   "id": "e1dfdcb7",
   "metadata": {},
   "outputs": [],
   "source": [
    "first_n = int(input()) #n of elements in A\n",
    "first_set = input() #A elements\n",
    "number_of_sets = int(input()) #number of changes\n",
    "A = list(first_set.split(\" \")) #create set A\n",
    "for i in range(len(A)): #turn str into ints\n",
    "    A[i] = int(A[i])\n",
    "A = set(list(A)) #Obtain set A\n",
    "\n",
    "for i in range(number_of_sets): #Create n number of changes. Iterate through 0,1,2,3\n",
    "    operation_and_n = input() #user introduces \"update 6\"\n",
    "    set_string = input() #new 6 elements\n",
    "    #B = (set(list(list(set_string.split(\" \"))))) #new set with 6 elements\n",
    "    B = list(set_string.split(\" \")) #create set B\n",
    "    for i in range(len(B)): #turn str into ints\n",
    "        B[i] = int(B[i])\n",
    "    B = set(list(B))\n",
    "    obtain_operation = operation_and_n.split()\n",
    "    if len(obtain_operation[0]) == 27:\n",
    "        A.symmetric_difference_update(B)\n",
    "    if len(obtain_operation[0]) == 19:\n",
    "        A.intersection_update(B)\n",
    "    if len(obtain_operation[0]) == 17:\n",
    "        A.difference_update(B)\n",
    "    if len(obtain_operation[0]) == 6:\n",
    "        A.update(B)\n",
    "    \n",
    "print(sum(A))\n"
   ]
  },
  {
   "cell_type": "markdown",
   "id": "867af744",
   "metadata": {},
   "source": [
    "#### The Captain's Room "
   ]
  },
  {
   "cell_type": "code",
   "execution_count": null,
   "id": "ee2a186e",
   "metadata": {},
   "outputs": [],
   "source": [
    "import collections\n",
    "\n",
    "n = int(input())\n",
    "rooms = input()\n",
    "A = list(rooms.split(\" \"))\n",
    "\n",
    "counter = collections.Counter(A)\n",
    "for i in counter:\n",
    "    if counter[i] == 1:\n",
    "        print(i)\n"
   ]
  },
  {
   "cell_type": "markdown",
   "id": "5ad459f5",
   "metadata": {},
   "source": [
    "#### Check Subset"
   ]
  },
  {
   "cell_type": "code",
   "execution_count": null,
   "id": "ce991560",
   "metadata": {},
   "outputs": [],
   "source": [
    "number_of_tests = int(input()) #number of tests. Each test are 4 lines of input\n",
    "\n",
    "boolean_array = [] #list to save wether a test is True or False\n",
    "for i in range(number_of_tests): #Create n number of tests. Iterate through them\n",
    "    An = input() #number of elements test case A\"\n",
    "    A = input() #A elements\n",
    "    list_A = list(A.split(\" \")) #create list with a elements\n",
    "    Bn = input() #number of elements test case B\"\n",
    "    B = input() #B elements\n",
    "    list_B = list(B.split(\" \")) #create list with b elements\n",
    "    a_and_b = [] #list to store AnB\n",
    "    for i in list_A: #iterate through list_A numbers\n",
    "        if i in list_B: #if this number is in List_B\n",
    "            a_and_b.append(i) #then needs to be added to the list of AnB\n",
    "    if a_and_b == list_A: #if after all iterations, AnB = A , this means that A is a substring of B.\n",
    "        boolean_array.append('True') #In which case, the value True is stored for later printing\n",
    "    else:\n",
    "        boolean_array.append('False') #Otherwise, the value False is stored for later printing\n",
    "\n",
    "for i in boolean_array:    \n",
    "    print(i)\n"
   ]
  },
  {
   "cell_type": "markdown",
   "id": "da2ba446",
   "metadata": {},
   "source": [
    "#### Check Strict Superset"
   ]
  },
  {
   "cell_type": "code",
   "execution_count": null,
   "id": "1da7c280",
   "metadata": {},
   "outputs": [],
   "source": [
    "A = input() #A elements\n",
    "list_A = list(A.split(\" \")) #create list with A elements\n",
    "number_of_tests = int(input()) #number of tests. Each test are 4 lines of input\n",
    "state = False\n",
    "for i in range(number_of_tests): #Create n number of tests. Iterate through 0,1,2\n",
    "    B = input() #A elements\n",
    "    list_B = list(B.split(\" \")) #create list with a elements  \n",
    "    a_and_b = [] #list to store AnB\n",
    "    for i in list_B: #iterate through list_B numbers\n",
    "        if i in list_A: #if this number is in List_B\n",
    "            a_and_b.append(i) #then needs to be added to the list of AnB\n",
    "    if a_and_b == list_B and len(list_B) < len(list_A): #if after all iterations, AnB = A , this means that B is a substring of A.\n",
    "        state = True #In which case, the value True is stored for later printing\n",
    "    else:\n",
    "        state = False\n",
    "        print('False') #Otherwise, the value False printed\n",
    "        break\n",
    "\n",
    "if state == True:\n",
    "    print(True) \n"
   ]
  },
  {
   "cell_type": "markdown",
   "id": "95fce900",
   "metadata": {},
   "source": [
    "## 5. Collections"
   ]
  },
  {
   "cell_type": "markdown",
   "id": "1fdece53",
   "metadata": {},
   "source": [
    "#### collections.Counter()"
   ]
  },
  {
   "cell_type": "code",
   "execution_count": null,
   "id": "528f7db7",
   "metadata": {},
   "outputs": [],
   "source": [
    "from collections import Counter\n",
    "\n",
    "N = int(input()) #n of shoes in stock\n",
    "stock = list(map(int,input().split())) #shoes in stock\n",
    "dict_stock = Counter(stock)\n",
    "\n",
    "customers = int(input()) \n",
    "prices = []\n",
    "request = []\n",
    "request_and_price = []\n",
    "earnings = []\n",
    "for i in range(customers): \n",
    "    shoe_and_price = input() \n",
    "    separate = shoe_and_price.split()\n",
    "    request_and_price.append(separate)\n",
    "    request.append(separate[0])\n",
    "#up to this point, there is: requests list, request+price list and stock dict\n",
    "for i in range(len(request)): \n",
    "    if dict_stock[list(map(int,request))[i]] >= 1: #if the ID value is in dict_stock += 1\n",
    "        dict_stock[list(map(int,request))[i]] -= 1 #substract one to compensate\n",
    "        earnings.append(request_and_price[i][1]) #\n",
    "    else:\n",
    "        pass\n",
    "        \n",
    "earning = list(map(int,earnings))\n",
    "print(sum(earning))\n"
   ]
  },
  {
   "cell_type": "markdown",
   "id": "165fea8a",
   "metadata": {},
   "source": [
    "#### DefaultDict Tutorial"
   ]
  },
  {
   "cell_type": "code",
   "execution_count": null,
   "id": "a2be2d59",
   "metadata": {},
   "outputs": [],
   "source": [
    "from collections import defaultdict\n",
    "\n",
    "n, m = map(int, input().split())\n",
    "\n",
    "a = defaultdict(list)\n",
    "solution = []\n",
    "for i in range(n):\n",
    "    a[input()].append(i+1)\n",
    "    \n",
    "for group_b in range(m):\n",
    "    b = input()\n",
    "    if b in a:\n",
    "         solution.append(a[b])\n",
    "    else:\n",
    "        solution.append(list([-1]))\n",
    "\n",
    "for i in solution:\n",
    "    print(*i)\n"
   ]
  },
  {
   "cell_type": "markdown",
   "id": "e65bdf2f",
   "metadata": {},
   "source": [
    "#### Collections.namedtuple()"
   ]
  },
  {
   "cell_type": "code",
   "execution_count": null,
   "id": "6e57d6dd",
   "metadata": {},
   "outputs": [],
   "source": [
    "from collections import namedtuple\n",
    "n=int(input())\n",
    "student=namedtuple('Student',input().split())\n",
    "marks = []\n",
    "for i in range(n):\n",
    "    marks.append(student(*input().split()).MARKS)\n",
    "average = list(map(int,marks))\n",
    "print(sum(average)/n)\n",
    "\n",
    "#Altough I did most of the code myself, I checked the discussion forum,\n",
    "#where I learned about the possibility of obtaining the marks by appending \".MARKS\" "
   ]
  },
  {
   "cell_type": "markdown",
   "id": "73fc3dfe",
   "metadata": {},
   "source": [
    "#### Collections.OrderedDict()"
   ]
  },
  {
   "cell_type": "code",
   "execution_count": null,
   "id": "79c2ef30",
   "metadata": {},
   "outputs": [],
   "source": [
    "from collections import OrderedDict\n",
    "n=int(input())\n",
    "ordered_dictionary = OrderedDict()\n",
    "for i in range(n):\n",
    "    item_and_price = input().split()\n",
    "    if \" \".join(item_and_price[0:-1]) in ordered_dictionary:\n",
    "        ordered_dictionary[\" \".join(item_and_price[0:-1])] += int(item_and_price[-1])\n",
    "    else:\n",
    "        ordered_dictionary[\" \".join(item_and_price[0:-1])] = int(item_and_price[-1])\n",
    "    \n",
    "for i in ordered_dictionary:\n",
    "    print(i , ordered_dictionary[i])\n"
   ]
  },
  {
   "cell_type": "markdown",
   "id": "f8e2339b",
   "metadata": {},
   "source": [
    "#### Word Order"
   ]
  },
  {
   "cell_type": "code",
   "execution_count": null,
   "id": "44795d80",
   "metadata": {},
   "outputs": [],
   "source": [
    "from collections import OrderedDict\n",
    "n=int(input())\n",
    "order_dictionary = OrderedDict()\n",
    "for i in range(n):\n",
    "    word = input()\n",
    "    if word in order_dictionary:\n",
    "        order_dictionary[word] += 1\n",
    "    else:\n",
    "        order_dictionary[word] = 1\n",
    "unique_words = []\n",
    "print(len(order_dictionary))    \n",
    "for i in order_dictionary:\n",
    "    unique_words.append(str(order_dictionary[i]))\n",
    "print(\" \".join(unique_words))\n"
   ]
  },
  {
   "cell_type": "markdown",
   "id": "48ba67de",
   "metadata": {},
   "source": [
    "#### Collections.deque()"
   ]
  },
  {
   "cell_type": "code",
   "execution_count": null,
   "id": "73ffdbd4",
   "metadata": {},
   "outputs": [],
   "source": [
    "from collections import deque\n",
    "d = deque()\n",
    "number_of_operations = int(input()) #number of changes\n",
    "\n",
    "for i in range(number_of_operations): #Create n number of changes. Iterate through 0,1,2,3\n",
    "    operation_and_n = input().split(\" \") #user introduces order\n",
    "\n",
    "    if len(operation_and_n[0]) == 7:\n",
    "        d.popleft()\n",
    "    if len(operation_and_n[0]) == 3:\n",
    "        d.pop()\n",
    "    if len(operation_and_n[0]) == 10:\n",
    "        d.appendleft(operation_and_n[1])\n",
    "    if len(operation_and_n[0]) == 6:\n",
    "        d.append(operation_and_n[1])\n",
    "    \n",
    "print(*d)\n"
   ]
  },
  {
   "cell_type": "markdown",
   "id": "b0c2c342",
   "metadata": {},
   "source": [
    "#### Company's logo"
   ]
  },
  {
   "cell_type": "code",
   "execution_count": 5,
   "id": "43ec1e40",
   "metadata": {},
   "outputs": [
    {
     "name": "stdout",
     "output_type": "stream",
     "text": [
      "aabbbccde\n",
      "b 3\n",
      "a 2\n",
      "c 2\n"
     ]
    }
   ],
   "source": [
    "from collections import Counter\n",
    "\n",
    "\n",
    "if __name__ == '__main__':\n",
    "    for x, y in Counter(sorted(input())).most_common(3):\n",
    "        print(x, y) #I solved it using the most_common() method on Counter's documentation."
   ]
  },
  {
   "cell_type": "markdown",
   "id": "761eae67",
   "metadata": {},
   "source": [
    "#### Piling Up!"
   ]
  },
  {
   "cell_type": "code",
   "execution_count": null,
   "id": "686e9d79",
   "metadata": {},
   "outputs": [],
   "source": [
    "from collections import deque\n",
    "test_cases = int(input())\n",
    "answers = []\n",
    "for i in range(test_cases): \n",
    "    number = input()\n",
    "    cuboids = list(map(int,input().split()))\n",
    "    elements = deque(cuboids)\n",
    "  \n",
    "    for i in sorted(elements, reverse = True):\n",
    "        if elements[0] == i:\n",
    "            elements.popleft()\n",
    "        elif elements[-1] == i:\n",
    "            elements.pop()\n",
    "        else:\n",
    "            answers.append('No')\n",
    "            break\n",
    "    if elements == deque([]):\n",
    "        answers.append('Yes')\n",
    "for i in answers: print(\"\".join(i))"
   ]
  },
  {
   "cell_type": "markdown",
   "id": "35f34b60",
   "metadata": {},
   "source": [
    "## 6. Dates and Time"
   ]
  },
  {
   "cell_type": "markdown",
   "id": "38e2da66",
   "metadata": {},
   "source": [
    "#### Calendar Module"
   ]
  },
  {
   "cell_type": "code",
   "execution_count": null,
   "id": "f2a4f98a",
   "metadata": {},
   "outputs": [],
   "source": [
    "import calendar\n",
    "x,y,z = list(map(int,input().split()))\n",
    "days = [\"MONDAY\",\"TUESDAY\", \"WEDNESDAY\",\"THURSDAY\",\"FRIDAY\",\"SATURDAY\",\"SUNDAY\"]\n",
    "print(days[calendar.weekday( year =z,  month = x , day = y)])\n"
   ]
  },
  {
   "cell_type": "markdown",
   "id": "3bf0f538",
   "metadata": {},
   "source": [
    "#### Time Delta"
   ]
  },
  {
   "cell_type": "code",
   "execution_count": null,
   "id": "f1ad7cf0",
   "metadata": {},
   "outputs": [],
   "source": [
    "#!/bin/python3\n",
    "\n",
    "import math\n",
    "import os\n",
    "import random\n",
    "import re\n",
    "import sys\n",
    "from datetime import datetime\n",
    "\n",
    "\n",
    "def time_delta(t1, t2):\n",
    "    t1 = datetime.strptime(t1, \"%a %d %b %Y %H:%M:%S %z\")\n",
    "    t2 = datetime.strptime(t2, \"%a %d %b %Y %H:%M:%S %z\")\n",
    "    return str(int(abs(t1 - t2).total_seconds()))\n",
    "\n",
    "\n",
    "if __name__ == '__main__':\n",
    "    fptr = open(os.environ['OUTPUT_PATH'], 'w')\n",
    "\n",
    "    t = int(input())\n",
    "\n",
    "    for t_itr in range(t):\n",
    "        t1 = input()\n",
    "\n",
    "        t2 = input()\n",
    "\n",
    "        delta = time_delta(t1, t2)\n",
    "\n",
    "        fptr.write(delta + '\\n')\n",
    "\n",
    "    fptr.close()\n",
    "\n",
    "#I ended up checking the discussion forum for help because my original code was not good enough:\n",
    "#This was my attemp:\n",
    "#t1 = 'Sat 02 May 2015 19:54:36 +0530'\n",
    "#t2 = 'Fri 01 May 2015 13:54:36 -0000'\n",
    "#months = ['Jan','Feb','Mar','Apr','May','Jun','Jul','Aug','Sep','Oct','Nov','Dec']\n",
    "#x = t1.split()\n",
    "#x[2] = str(months.index(x[2]) + 1)\n",
    "#date = \"\".join(list([\"\".join(x[3]),'-',\"\".join(x[2]) ,'-', \"\".join(x[1]),\" \",\"\".join(x[4])]))\n",
    "#date1 = dateutil.parser.parse(date,fuzzy=True)\n",
    "#y = t2.split()\n",
    "#y[2] = str(months.index(y[2]) + 1)\n",
    "#date = \"\".join(list([\"\".join(y[3]),'-',\"\".join(y[2]) ,'-', \"\".join(y[1]),\" \",\"\".join(y[4])]))\n",
    "#date2 = dateutil.parser.parse(date,fuzzy=True)\n",
    "#seconds_difference =  abs(int((date1 - date2).total_seconds()))\n",
    "##TIME DIFFERENCES\n",
    "#X = []\n",
    "#Y = []\n",
    "#x2, y2 = \"\".join(str(x[-1])), \"\".join(str(y[-1]))\n",
    "#X.extend(x2)\n",
    "#Y.extend(y2)\n",
    "#sx = X[0], int(\"\".join(X[1:3])), int(\"\".join(X[3:5]))\n",
    "#sy = Y[0], int(\"\".join(Y[1:3])), int(\"\".join(Y[3:5]))\n",
    "#if sx[0] == '-':\n",
    "#    result = seconds_difference - sx[1]*60*60 - sx[2]*60\n",
    "#elif sx[0] == '+':\n",
    "#    result = seconds_difference + sx[1]*60*60 - sx[2]*60\n",
    "#print(seconds_difference)\n",
    "#print(seconds_difference - 5*60*60 - 30*60)"
   ]
  },
  {
   "cell_type": "markdown",
   "id": "ac2272e2",
   "metadata": {},
   "source": [
    "## 7. Exceptions"
   ]
  },
  {
   "cell_type": "markdown",
   "id": "48699023",
   "metadata": {},
   "source": [
    "#### Exceptions"
   ]
  },
  {
   "cell_type": "code",
   "execution_count": null,
   "id": "86f8c503",
   "metadata": {},
   "outputs": [],
   "source": [
    "number_of_cases = int(input())\n",
    "divisions = []\n",
    "for i in range(number_of_cases):\n",
    "    a_and_b = input().split()\n",
    "    a , b = a_and_b[0] , a_and_b[1]\n",
    "    divisions.append([a,b])\n",
    "for i in range(len(divisions)):\n",
    "    try:\n",
    "        print(round(int(divisions[i][0]) / int(divisions[i][1])))\n",
    "    except ValueError as e:\n",
    "        print(\"Error Code:\",e)\n",
    "    except ZeroDivisionError as e:\n",
    "        print(\"Error Code: integer division or modulo by zero\")"
   ]
  },
  {
   "cell_type": "markdown",
   "id": "a644cf65",
   "metadata": {},
   "source": [
    "## 8. Built-ins"
   ]
  },
  {
   "cell_type": "markdown",
   "id": "b7822384",
   "metadata": {},
   "source": [
    "#### Zipped!"
   ]
  },
  {
   "cell_type": "code",
   "execution_count": null,
   "id": "536dbdee",
   "metadata": {},
   "outputs": [],
   "source": [
    "import statistics\n",
    "n_and_x = list(map(int,input().split()))\n",
    "n , x = n_and_x[0] , n_and_x[1]\n",
    "later_zipping = []\n",
    "for i in range(x):\n",
    "    student = list(map(float,input().split()))\n",
    "    later_zipping.append(student)\n",
    "\n",
    "results = list(zip(*later_zipping))\n",
    "\n",
    "for i in range(len(results)):\n",
    "    print(statistics.mean(results[i]))\n"
   ]
  },
  {
   "cell_type": "markdown",
   "id": "3f7db202",
   "metadata": {},
   "source": [
    "#### ginortS"
   ]
  },
  {
   "cell_type": "code",
   "execution_count": null,
   "id": "78d91a69",
   "metadata": {},
   "outputs": [],
   "source": [
    "s = input()\n",
    "lista = []\n",
    "lista.extend(s)\n",
    "\n",
    "upper = []\n",
    "lower = []\n",
    "numbers = []\n",
    "for i in range(len(lista)):\n",
    "    if lista[i].isdigit():\n",
    "        numbers.append(lista[i])\n",
    "    if lista[i].isupper():\n",
    "        upper.append(lista[i])\n",
    "    if lista[i].islower():\n",
    "        lower.append(lista[i])\n",
    "\n",
    "even_num = []\n",
    "odd_num = []\n",
    "for i in numbers:\n",
    "    if int(i) % 2 != 0:\n",
    "        odd_num.append(i)\n",
    "    else:\n",
    "        even_num.append(i)\n",
    "\n",
    "sorted_list = sorted(lower) + sorted(upper) + sorted(odd_num) + sorted(even_num)\n",
    "print(\"\".join(sorted_list))\n"
   ]
  },
  {
   "cell_type": "markdown",
   "id": "351f93b7",
   "metadata": {},
   "source": [
    "#### Python sort sort (athlete sort)"
   ]
  },
  {
   "cell_type": "code",
   "execution_count": null,
   "id": "e234512e",
   "metadata": {},
   "outputs": [],
   "source": [
    "import operator\n",
    "\n",
    "\n",
    "if __name__ == '__main__':\n",
    "    n_and_m= list(map(int,input().split()))\n",
    "    n , m = n_and_m[0] , n_and_m[1]\n",
    "    instances = []\n",
    "    for i in range(n):\n",
    "        values = list(map(int,input().split()))\n",
    "        instances.append(values)\n",
    "    k = int(input())\n",
    "    instances.sort(key=operator.itemgetter(k))\n",
    "    for i in instances: print(*i)\n",
    "\n",
    "#By doing some research in the Discussion Forum I learned about the itemgetter() method, which was very convenient for the task required."
   ]
  },
  {
   "cell_type": "markdown",
   "id": "dbafe76d",
   "metadata": {},
   "source": [
    "## 9. Python Functionals"
   ]
  },
  {
   "cell_type": "markdown",
   "id": "9edaa8f3",
   "metadata": {},
   "source": [
    "#### Map and lambda expresions"
   ]
  },
  {
   "cell_type": "code",
   "execution_count": null,
   "id": "d9fd061a",
   "metadata": {},
   "outputs": [],
   "source": [
    "cube = lambda x: x**3 \n",
    "\n",
    "def fibonacci(n):\n",
    "    fib = [0,1,1]\n",
    "    for i in range(n):\n",
    "        next = fib[-1]+fib[-2]\n",
    "        fib.append(next)\n",
    "    return fib[:n]"
   ]
  },
  {
   "cell_type": "markdown",
   "id": "101035a4",
   "metadata": {},
   "source": [
    "## 10. Numpy"
   ]
  },
  {
   "cell_type": "markdown",
   "id": "08b647d4",
   "metadata": {},
   "source": [
    "#### Arrays"
   ]
  },
  {
   "cell_type": "code",
   "execution_count": null,
   "id": "9e58e79b",
   "metadata": {},
   "outputs": [],
   "source": [
    "import numpy\n",
    "\n",
    "def arrays(arr):\n",
    "    arr_numbers = numpy.array(arr, float)\n",
    "    return arr_numbers[::-1]"
   ]
  },
  {
   "cell_type": "markdown",
   "id": "b72951a0",
   "metadata": {},
   "source": [
    "#### Shape and Reshape"
   ]
  },
  {
   "cell_type": "code",
   "execution_count": null,
   "id": "635e0743",
   "metadata": {},
   "outputs": [],
   "source": [
    "import numpy\n",
    "\n",
    "numbers = list(map(int,input().split()))\n",
    "arr_numbers = numpy.array(numbers, int)\n",
    "print(numpy.reshape(arr_numbers, (3,3)))\n"
   ]
  },
  {
   "cell_type": "markdown",
   "id": "f78dea52",
   "metadata": {},
   "source": [
    "#### Transpose and Flatten"
   ]
  },
  {
   "cell_type": "code",
   "execution_count": null,
   "id": "c47f6659",
   "metadata": {},
   "outputs": [],
   "source": [
    "import numpy\n",
    "\n",
    "n_and_m= list(map(int,input().split()))\n",
    "n , m = n_and_m[0] , n_and_m[1]\n",
    "matrix = []\n",
    "for i in range(n):\n",
    "    row = list(map(int,input().split()))\n",
    "    matrix.append(row)\n",
    "\n",
    "arr_numbers = numpy.array(matrix, int)\n",
    "print(numpy.transpose(arr_numbers))\n",
    "print(arr_numbers.flatten())\n",
    "\n",
    "\n"
   ]
  },
  {
   "cell_type": "markdown",
   "id": "9a239c63",
   "metadata": {},
   "source": [
    "#### Concatenate"
   ]
  },
  {
   "cell_type": "code",
   "execution_count": null,
   "id": "e5cd9c75",
   "metadata": {},
   "outputs": [],
   "source": [
    "import numpy\n",
    "\n",
    "n_m_p= list(map(int,input().split()))\n",
    "n , m , p = n_m_p[0] , n_m_p[1] , n_m_p[2]\n",
    "matrix_1 , matrix_2  = [] , []\n",
    "\n",
    "for i in range(n):\n",
    "    row = list(map(int,input().split()))\n",
    "    matrix_1.append(row)\n",
    "for i in range(m):\n",
    "    row2 = list(map(int,input().split()))\n",
    "    matrix_2.append(row2)\n",
    "array_1 = numpy.array(matrix_1 , int)  \n",
    "array_2 = numpy.array(matrix_2 , int)\n",
    "print(numpy.concatenate((array_1, array_2)))\n"
   ]
  },
  {
   "cell_type": "markdown",
   "id": "98dbaf66",
   "metadata": {},
   "source": [
    "#### Zeros and Ones"
   ]
  },
  {
   "cell_type": "code",
   "execution_count": null,
   "id": "afd40646",
   "metadata": {},
   "outputs": [],
   "source": [
    "import numpy\n",
    "\n",
    "n_m_p= list(map(int,input().split()))\n",
    "\n",
    "zeros = numpy.zeros(n_m_p , int)\n",
    "ones = numpy.ones(n_m_p , int)\n",
    "    \n",
    "print(zeros)\n",
    "print(ones)\n",
    "\n",
    "\n"
   ]
  },
  {
   "cell_type": "markdown",
   "id": "119d5ee0",
   "metadata": {},
   "source": [
    "#### Eye and Identity"
   ]
  },
  {
   "cell_type": "code",
   "execution_count": null,
   "id": "7b4f4b76",
   "metadata": {},
   "outputs": [],
   "source": [
    "import numpy\n",
    "numpy.set_printoptions(legacy = '1.13') \n",
    "n_m= list(map(int,input().split()))\n",
    "n , m  = n_m[0] , n_m[1]\n",
    "print(numpy.eye(n, m, k =0))\n"
   ]
  },
  {
   "cell_type": "markdown",
   "id": "1776981b",
   "metadata": {},
   "source": [
    "#### Array Mathematics"
   ]
  },
  {
   "cell_type": "code",
   "execution_count": null,
   "id": "a244cde3",
   "metadata": {},
   "outputs": [],
   "source": [
    "import numpy\n",
    "\n",
    "n_m= list(map(int,input().split()))\n",
    "n , m  = n_m[0] , n_m[1] \n",
    "lista_A = []\n",
    "lista_B = []\n",
    "for i in range(n):\n",
    "    A = list(map(int,input().split()))\n",
    "    lista_A.append(A)\n",
    "\n",
    "for i in range(n):\n",
    "        B = list(map(int,input().split()))\n",
    "        lista_B.append(B)\n",
    "operations = [numpy.add, numpy.subtract, numpy.multiply, numpy.floor_divide, numpy.mod, numpy.power]\n",
    "results = []\n",
    "for i in operations:\n",
    "    for j in range(len(lista_A)):\n",
    "        operation = i(lista_A[j],lista_B[j])\n",
    "        x = numpy.array(operation)\n",
    "        results.append(x)\n",
    "\n",
    "for i in range(0,len(results),n):\n",
    "    print(numpy.array(results[i:i+n]))\n"
   ]
  },
  {
   "cell_type": "markdown",
   "id": "892813d7",
   "metadata": {},
   "source": [
    "#### Floor, Ceil and Rint"
   ]
  },
  {
   "cell_type": "code",
   "execution_count": null,
   "id": "222a66b4",
   "metadata": {},
   "outputs": [],
   "source": [
    "import numpy\n",
    "numpy.set_printoptions(legacy = \"1.13\")\n",
    "arr= numpy.array(list(map(float,input().split())))\n",
    "print(numpy.floor(arr) , numpy.ceil(arr) , numpy.rint(arr) , sep = \"\\n\")\n"
   ]
  },
  {
   "cell_type": "markdown",
   "id": "11cb33ff",
   "metadata": {},
   "source": [
    "#### Sum and Prod"
   ]
  },
  {
   "cell_type": "code",
   "execution_count": null,
   "id": "0db33258",
   "metadata": {},
   "outputs": [],
   "source": [
    "import numpy as np\n",
    "\n",
    "n_m= list(map(int,input().split()))\n",
    "n , m  = n_m[0] , n_m[1] \n",
    "lista = []\n",
    "for i in range(n):\n",
    "    row = np.array(list(map(int,input().split())))\n",
    "    lista.append(row)\n",
    "arr = np.array(lista)\n",
    "sum_arr = np.sum(arr, axis = 0)\n",
    "print(np.prod(sum_arr))\n"
   ]
  },
  {
   "cell_type": "markdown",
   "id": "5051d2c1",
   "metadata": {},
   "source": [
    "#### Min and Max"
   ]
  },
  {
   "cell_type": "code",
   "execution_count": null,
   "id": "3b2e05c4",
   "metadata": {},
   "outputs": [],
   "source": [
    "import numpy as np\n",
    "\n",
    "n_m= list(map(int,input().split()))\n",
    "n , m  = n_m[0] , n_m[1] \n",
    "lista = []\n",
    "for i in range(n):\n",
    "    row = np.array(list(map(int,input().split())))\n",
    "    lista.append(row)\n",
    "arr = np.array(lista)\n",
    "min_arr = np.min(arr, axis = 1) \n",
    "print(np.max(min_arr))\n"
   ]
  },
  {
   "cell_type": "markdown",
   "id": "d051c0f0",
   "metadata": {},
   "source": [
    "#### Mean, Var, and Std"
   ]
  },
  {
   "cell_type": "code",
   "execution_count": null,
   "id": "f0d99dfd",
   "metadata": {},
   "outputs": [],
   "source": [
    "import numpy as np\n",
    "\n",
    "n_m= list(map(int,input().split()))\n",
    "n , m  = n_m[0] , n_m[1] \n",
    "lista = []\n",
    "for i in range(n):\n",
    "    row = np.array(list(map(int,input().split())))\n",
    "    lista.append(row)\n",
    "    \n",
    "arr = np.array(lista)\n",
    "print(np.mean(arr, axis = 1))    \n",
    "print(np.var(arr, axis = 0))\n",
    "print(np.around(np.std(arr),decimals=11))\n"
   ]
  },
  {
   "cell_type": "markdown",
   "id": "6e121185",
   "metadata": {},
   "source": [
    "#### Dot and Cross"
   ]
  },
  {
   "cell_type": "code",
   "execution_count": null,
   "id": "d6e5d2a9",
   "metadata": {},
   "outputs": [],
   "source": [
    "import numpy as np\n",
    "\n",
    "n = int(input())\n",
    "list_A = []\n",
    "for i in range(n):\n",
    "    A = np.array(list(map(int,input().split())))\n",
    "    list_A.append(A)\n",
    "\n",
    "list_B = []\n",
    "for i in range(n):\n",
    "    B = np.array(list(map(int,input().split())))\n",
    "    list_B.append(B)\n",
    "    \n",
    "arr_A = np.array(list_A)\n",
    "arr_B = np.array(list_B)   \n",
    "\n",
    "print(np.dot(arr_A, arr_B))\n"
   ]
  },
  {
   "cell_type": "markdown",
   "id": "9cdc8669",
   "metadata": {},
   "source": [
    "#### Inner and Outer"
   ]
  },
  {
   "cell_type": "code",
   "execution_count": null,
   "id": "79388295",
   "metadata": {},
   "outputs": [],
   "source": [
    "import numpy as np\n",
    "lista = []\n",
    "[lista.append(np.array(list(map(int,input().split())))) for i in range(2)]\n",
    "print(np.inner(lista[0],lista[1]))\n",
    "print(np.outer(lista[0],lista[1]))\n"
   ]
  },
  {
   "cell_type": "markdown",
   "id": "5f128f38",
   "metadata": {},
   "source": [
    "#### Polynomials"
   ]
  },
  {
   "cell_type": "code",
   "execution_count": null,
   "id": "9b534b40",
   "metadata": {},
   "outputs": [],
   "source": [
    "import numpy as np\n",
    "n = list(map(float,input().split()))\n",
    "x = int(input())\n",
    "n.reverse()\n",
    "poly = []\n",
    "for i in range(len(n)):\n",
    "    coef = n[i] * x**i\n",
    "    poly.append(coef)\n",
    "print(sum(poly))\n"
   ]
  },
  {
   "cell_type": "markdown",
   "id": "98866b42",
   "metadata": {},
   "source": [
    "#### Linear Algebra"
   ]
  },
  {
   "cell_type": "code",
   "execution_count": null,
   "id": "cd5ad784",
   "metadata": {},
   "outputs": [],
   "source": [
    "import numpy\n",
    "n = int(input())\n",
    "matrix = []\n",
    "for i in range(n):\n",
    "    row = numpy.array(list(map(float,input().split())))\n",
    "    matrix.append(row)\n",
    "print(numpy.linalg.det(matrix).round(2))\n"
   ]
  },
  {
   "cell_type": "markdown",
   "id": "be6d2bec",
   "metadata": {},
   "source": [
    "## 11. XML"
   ]
  },
  {
   "cell_type": "markdown",
   "id": "9b442b3d",
   "metadata": {},
   "source": [
    "#### XML 1 - Find the Score"
   ]
  },
  {
   "cell_type": "code",
   "execution_count": null,
   "id": "33285c16",
   "metadata": {},
   "outputs": [],
   "source": [
    "\n",
    "import xml.etree.ElementTree as etree\n",
    "import re\n",
    "\n",
    "def get_attr_number(node):\n",
    "    score = len(node.attrib)\n",
    "    for child in node:\n",
    "        score = score + get_attr_number(child) \n",
    "        #iterates over each child individually as an independent node and acumulates its attributtes\n",
    "    return score\n",
    "    \n",
    "#In order to solve this challenged I extracted some ideas from the Discussion Forum."
   ]
  },
  {
   "cell_type": "markdown",
   "id": "d6cda482",
   "metadata": {},
   "source": [
    "#### XML2 - Find the Maximum Depth"
   ]
  },
  {
   "cell_type": "code",
   "execution_count": null,
   "id": "4cdfcbfb",
   "metadata": {},
   "outputs": [],
   "source": [
    "maxdepth = 0\n",
    "def depth(elem, level):\n",
    "    global maxdepth\n",
    "    level += 1\n",
    "    if level > maxdepth:\n",
    "        maxdepth = level\n",
    "    for child in elem:\n",
    "        depth(child, level)\n",
    "\n",
    "#I obtained the solution from the Discussion Forum. Couldnt make it work."
   ]
  },
  {
   "cell_type": "markdown",
   "id": "0e41d514",
   "metadata": {},
   "source": [
    "## 12.  Closures and Decorations"
   ]
  },
  {
   "cell_type": "markdown",
   "id": "b65bbd2e",
   "metadata": {},
   "source": [
    "#### Standardize Mobile Number Using Decorators"
   ]
  },
  {
   "cell_type": "code",
   "execution_count": null,
   "id": "66fed2d2",
   "metadata": {},
   "outputs": [],
   "source": [
    "def wrapper(f):\n",
    "    def fun(l):\n",
    "        lista = []\n",
    "        for i in l:\n",
    "            fun = \"\".join([\"+91 \",i[-10:-5],\" \", i[-5:]])\n",
    "            lista.append(fun)\n",
    "        return f(lista)\n",
    "    return fun\n",
    "\n",
    "#In order to solve this challenge, I checked the Discussion Forum\n",
    "#This was my original code:\n",
    "#    def wrapper(f):\n",
    "#    def fun(l):\n",
    "#        lista = []\n",
    "#        for i in l:\n",
    "#            if i[0:2] == \"91\" and len(i) == 12:\n",
    "#                fun = \"\".join([\"+91 \",i[2:-5],\" \",i[-5:]])\n",
    "#            elif i[0:2] == \"91\" and len(i) < 12:\n",
    "#                fun = \"\".join([\"+91 \",i[:-5],\" \",i[-5:]])\n",
    "#            elif i[0:2] != \"91 \" and i[0] != \"0\":\n",
    "#                fun = \"\".join([\"+91 \",i[:-5],\" \",i[-5:]])\n",
    "#            elif i[0] == \"0\" and len(i) > 10:\n",
    "#                fun = \"\".join([\"+91 \",i[-5:] ,\" \", i[-10:-5]])\n",
    "#            lista.append(fun)\n",
    "#        return f(lista)\n",
    "#    return fun\n",
    "\n",
    "\n",
    "#This below is HackerRank's code for testing my code.\n",
    "\n",
    "@wrapper\n",
    "def sort_phone(l):\n",
    "    print(*sorted(l), sep='\\n')\n",
    "\n",
    "if __name__ == '__main__':\n",
    "    l = [input() for _ in range(int(input()))]\n",
    "    sort_phone(l)\n",
    "\n"
   ]
  },
  {
   "cell_type": "markdown",
   "id": "780fc5a3",
   "metadata": {},
   "source": [
    "#### Decorators 2 - Name Directory"
   ]
  },
  {
   "cell_type": "code",
   "execution_count": null,
   "id": "58edb81e",
   "metadata": {},
   "outputs": [],
   "source": [
    "def person_lister(f):\n",
    "    def inner(people):\n",
    "        return map(f, sorted(people, key=lambda x: int(x[2])))\n",
    "    return inner\n",
    "\n",
    "#After several unsuccesful trials I extracted this code from the Discussion Forum.\n",
    "#Then I understood that the lambda function sorts the list by age.\n",
    "#This below is HackerRank's code for testing my code.\n",
    "\n",
    "@person_lister\n",
    "def name_format(person):\n",
    "    return (\"Mr. \" if person[3] == \"M\" else \"Ms. \") + person[0] + \" \" + person[1]\n",
    "\n",
    "if __name__ == '__main__':\n",
    "    people = [input().split() for i in range(int(input()))]\n",
    "    print(*name_format(people), sep='\\n')\n"
   ]
  },
  {
   "cell_type": "markdown",
   "id": "c6d1075a",
   "metadata": {},
   "source": [
    "## 13. Regex and Parsing"
   ]
  },
  {
   "cell_type": "markdown",
   "id": "64b4dd70",
   "metadata": {},
   "source": [
    "#### Matrix Script"
   ]
  },
  {
   "cell_type": "code",
   "execution_count": null,
   "id": "eb341293",
   "metadata": {},
   "outputs": [],
   "source": [
    "#!/bin/python3\n",
    "\n",
    "import math\n",
    "import os\n",
    "import random\n",
    "import re\n",
    "import sys\n",
    "\n",
    "\n",
    "\n",
    "\n",
    "first_multiple_input = input().rstrip().split()\n",
    "\n",
    "n = int(first_multiple_input[0])\n",
    "\n",
    "m = int(first_multiple_input[1])\n",
    "\n",
    "matrix = []\n",
    "\n",
    "for _ in range(n):\n",
    "    matrix_item = input()\n",
    "    matrix.append(matrix_item)\n",
    "letters = []\n",
    "for j in range(m):\n",
    "    for i in range(len(matrix)):\n",
    "            a = matrix[i][j]\n",
    "            letters.append(a)\n",
    "s = \"\".join(letters)\n",
    "pattern = \"(?<=[a-zA-Z0-9])([^a-zA-Z0-9]+)(?=[a-zA-Z0-9])\"\n",
    "text = re.sub(pattern, \" \", s)\n",
    "print(text)\n",
    "\n",
    "#This one I could do it almost entirely on my own. \n",
    "#However, I checked the Discussion Forum to make the last adjustments to my reggex pattern. \n",
    "#I struggle specially with the positive and negative forward concepts, ?<= and ?=."
   ]
  },
  {
   "cell_type": "markdown",
   "id": "4817f6fe",
   "metadata": {},
   "source": [
    "#### Detect Floating Point Number"
   ]
  },
  {
   "cell_type": "code",
   "execution_count": null,
   "id": "155581a8",
   "metadata": {},
   "outputs": [],
   "source": [
    "import re\n",
    "\n",
    "n = int(input())\n",
    "\n",
    "for i in range(n):\n",
    "    x = input()\n",
    "    if \"\".join(re.findall('[\\+|\\-]?\\d{0,}\\.\\d+$', x)) == x: \n",
    "        print('True')\n",
    "    else:\n",
    "        print('False')"
   ]
  },
  {
   "cell_type": "markdown",
   "id": "f6f3a5c6",
   "metadata": {},
   "source": [
    "#### Re.split()"
   ]
  },
  {
   "cell_type": "code",
   "execution_count": null,
   "id": "f36628b9",
   "metadata": {},
   "outputs": [],
   "source": [
    "regex_pattern = r\"[,|.]\""
   ]
  },
  {
   "cell_type": "markdown",
   "id": "85e5f02d",
   "metadata": {},
   "source": [
    "#### Group(), Groups() & Groupdict()"
   ]
  },
  {
   "cell_type": "code",
   "execution_count": null,
   "id": "b8af4093",
   "metadata": {},
   "outputs": [],
   "source": [
    "import re\n",
    "s = input()\n",
    "sm = re.search(r\"([A-Za-z0-9])\\1+\",s)\n",
    "if sm:\n",
    "    print(sm[0][0])\n",
    "else:\n",
    "    print('-1')\n"
   ]
  },
  {
   "cell_type": "markdown",
   "id": "33351526",
   "metadata": {},
   "source": [
    "#### Re.findall() & Re.finditer()"
   ]
  },
  {
   "cell_type": "code",
   "execution_count": null,
   "id": "a88c2e3a",
   "metadata": {},
   "outputs": [],
   "source": [
    "import re\n",
    "s = input()\n",
    "match = re.findall(r\"(?=[b-df-hj-np-tv-z]([aeiouAEIOU]{2,})[b-df-hj-np-tv-z])\", s )\n",
    "if match: \n",
    "    for i in match:\n",
    "        print(\"\".join(i))\n",
    "else:\n",
    "    print(-1) \n"
   ]
  },
  {
   "cell_type": "markdown",
   "id": "5ce2a36d",
   "metadata": {},
   "source": [
    "#### Re.start() & Re.end()"
   ]
  },
  {
   "cell_type": "code",
   "execution_count": null,
   "id": "39e05602",
   "metadata": {},
   "outputs": [],
   "source": [
    "import re\n",
    "s = input()\n",
    "search = input()\n",
    "matches = False\n",
    "for i in range(len(s)):\n",
    "    sub = s[i:i+len(search)]\n",
    "    if sub == search:\n",
    "        index = (i,i+len(search)-1)\n",
    "        print(index)\n",
    "        matches = True\n",
    "if matches == False:\n",
    "    print((-1,-1))\n",
    "    \n"
   ]
  },
  {
   "cell_type": "markdown",
   "id": "3bfe871d",
   "metadata": {},
   "source": [
    "#### Regex Substitution"
   ]
  },
  {
   "cell_type": "code",
   "execution_count": null,
   "id": "2d6c8872",
   "metadata": {},
   "outputs": [],
   "source": [
    "import re\n",
    "n = int(input())\n",
    "subs = []\n",
    "for i in range(n):\n",
    "    row = input()\n",
    "    ors = re.sub(\"(?<= )(\\|\\|)(?= )\", \"or\", row)\n",
    "    ands_ors = re.sub(\"(?<= )(&&)(?= )\", \"and\", ors)\n",
    "    subs.append(ands_ors)\n",
    "[print(i)for i in subs]\n",
    "\n",
    "#In this challenge, again, I struggled specially with these (?<= ),(?= ) . \n",
    "#I came up with (\\|\\|)\n",
    "#After some unsuccesful trials, I ended up checking the Discussion Forum"
   ]
  },
  {
   "cell_type": "markdown",
   "id": "169c6179",
   "metadata": {},
   "source": [
    "#### Validating Roman Numerals"
   ]
  },
  {
   "cell_type": "code",
   "execution_count": null,
   "id": "ea0b59ef",
   "metadata": {},
   "outputs": [],
   "source": [
    "regex_pattern = r\"C{0,3}M{0,3}(CD|D?C{0,3}|CM)(XL|L?X{0,3}|XC)(IV|V?I{0,3}|IX)$\"    \n",
    "\n",
    "#Nothing that I tried was close to be correct so I ended up checking the discussion forum for help.\n",
    "#By looking at the code I understand that due to the fact that every number(MDCLXVI) can be a max of 3 times in a row, \n",
    "#and that an inferior number can only be substracted once, the number of possible patterns is reduced, hence, can be described as a regular expression."
   ]
  },
  {
   "cell_type": "markdown",
   "id": "f8a45b8c",
   "metadata": {},
   "source": [
    "#### Validating phone numbers"
   ]
  },
  {
   "cell_type": "code",
   "execution_count": null,
   "id": "87f59a83",
   "metadata": {},
   "outputs": [],
   "source": [
    "import re\n",
    "n = int(input())\n",
    "\n",
    "for i in range(n):\n",
    "    s = input()\n",
    "    regex_pattern = r\"^[7|8|9]\\d{9}$\"\n",
    "    match = re.match(regex_pattern , s)\n",
    "    if match: print('YES')\n",
    "    else: print('NO')"
   ]
  },
  {
   "cell_type": "markdown",
   "id": "343da0b1",
   "metadata": {},
   "source": [
    "#### Validating and Parsing Email Addresses"
   ]
  },
  {
   "cell_type": "code",
   "execution_count": null,
   "id": "d09c95e1",
   "metadata": {},
   "outputs": [],
   "source": [
    "import re\n",
    "n = int(input())\n",
    "\n",
    "for i in range(n):\n",
    "    name_email = input()\n",
    "    regex_pattern = r\"[A-Za-z]{0,} <[A-Za-z]{1}[a-zA-Z0-9\\-\\.\\_]{0,}@{1}[A-Za-z]{0,}\\.[A-Za-z]{1,3}>$\"\n",
    "    match = re.match(regex_pattern,name_email)\n",
    "    if match: print(name_email)"
   ]
  },
  {
   "cell_type": "markdown",
   "id": "49ab72b1",
   "metadata": {},
   "source": [
    "#### Hex Color Code"
   ]
  },
  {
   "cell_type": "code",
   "execution_count": null,
   "id": "51114dae",
   "metadata": {},
   "outputs": [],
   "source": [
    "import re \n",
    "N = int(input())\n",
    "for i in range(N): \n",
    "    pattern = re.compile(r'.(#[0-9A-Fa-f]{3,6})')\n",
    "    matches = pattern.finditer(' '.join(input().split()))\n",
    "    for i in matches:\n",
    "        print(i.group(1))\n",
    "\n",
    "#My original code passed all test cases but Test 4. \n",
    "# There was a 'valid' code but outside the brackets and in the same line of an open bracket:  #f0f {\n",
    "#Because of this extreme case i ended up looking for help at the Discussion Forum. My original code was:\n",
    "#import re\n",
    "#n = int(input())\n",
    "#results = []\n",
    "#opened = False\n",
    "#for i in range(n):\n",
    "#    css = input()\n",
    "#    if '{' in css : \n",
    "#        opened = True\n",
    "#    elif '}' in css : \n",
    "#        opened = False\n",
    "#    if opened:\n",
    "#        regex_pattern = r\"#[A-Fa-f0-9]{6}\\b|#[A-Fa-f0-9]{3}\\b\"\n",
    "#        match = re.findall(regex_pattern, css)\n",
    "#        for i in match:\n",
    "#            results.append(i)\n",
    "#for i in results:\n",
    "#    print(\"\".join(i))\n",
    "\n",
    "\n"
   ]
  },
  {
   "cell_type": "markdown",
   "id": "0b59c6b5",
   "metadata": {},
   "source": [
    "#### Validating UID "
   ]
  },
  {
   "cell_type": "code",
   "execution_count": null,
   "id": "dbcf0e07",
   "metadata": {},
   "outputs": [],
   "source": [
    "import re\n",
    "n = int(input())\n",
    "regex_pattern = r\"^(?=(?:[a-z\\d]*[A-Z]){2})(?=(?:\\D*\\d){3})(?:([a-zA-Z\\d])(?!.*\\1)){10}$\"\n",
    "\n",
    "for i in range(n):\n",
    "    s = input()\n",
    "    matches = re.match(regex_pattern, s)\n",
    "    if matches:\n",
    "        print('Valid')\n",
    "    else:\n",
    "        print('Invalid')\n",
    "#I checked the Discussion Forum in order to look for help because I could not do this challenge on my own."
   ]
  },
  {
   "cell_type": "markdown",
   "id": "df589f31",
   "metadata": {},
   "source": [
    "#### Validating Credit Card Numbers "
   ]
  },
  {
   "cell_type": "code",
   "execution_count": null,
   "id": "fba9c805",
   "metadata": {},
   "outputs": [],
   "source": [
    "import re\n",
    "n = int(input())\n",
    "regex_pattern = r\"^(?![0-9-]*(\\d)(?:-?\\1){3,})[456]\\d{3}(?:-?\\d{4}){3}$\"\n",
    "\n",
    "for i in range(n):\n",
    "    s = input()\n",
    "    matches = re.match(regex_pattern, s)\n",
    "    if matches :\n",
    "            print('Valid')\n",
    "    else:\n",
    "        print('Invalid')\n",
    "\n",
    "#I checked the Discussion forum for this challenge."
   ]
  },
  {
   "cell_type": "markdown",
   "id": "a73e09b6",
   "metadata": {},
   "source": [
    "#### Detect HTML Tags, Attributes and Attribute Values"
   ]
  },
  {
   "cell_type": "code",
   "execution_count": null,
   "id": "b0000427",
   "metadata": {},
   "outputs": [],
   "source": [
    "from html.parser import HTMLParser\n",
    "class myHTMLParser(HTMLParser):\n",
    "    def handle_starttag(self,tag,attrs):\n",
    "        print(tag)\n",
    "        for e in attrs:\n",
    "            print('->',e[0],'>',e[1])\n",
    "    \n",
    "parser = myHTMLParser()\n",
    "parser.feed(''.join([input().strip() for _ in range(int(input()))]))\n",
    "\n",
    "\n",
    "#I was able to print all the elements required, even avoifing the comments, but I could print them in the desired order.\n",
    "#For each line I printed first the start tags and then the attributes, even if that was not their exact order of apparence.\n",
    "#Therefore I need to check the Discussion Forum for help.\n",
    "#My original code was:\n",
    "\n",
    "#import re\n",
    "\n",
    "#def handle_starttag(HTML):\n",
    "#        comments_pttrn = r\"<!-- [\\w\\W].* -->\"\n",
    "#        comms = re.findall(comments_pttrn,HTML)\n",
    "#        start_pattern = r\"<([A-Z0-9a-z-]+)\"\n",
    "#        start = re.findall(start_pattern,HTML)\n",
    "#        if start and not comms:\n",
    "#            for i in start:\n",
    "#                print(\"\".join(i))\n",
    "\n",
    "#def handle_attributtes(HTML):\n",
    "#    comments_pttrn = r\"<!-- [\\w\\W].* -->\"\n",
    "#    comms = re.findall(comments_pttrn,HTML)\n",
    "#    atts_pattern = r\"\\s([a-z-]+)\\=\\\"([A-Za-z-0-9\\/\\.]+)\\\"\"\n",
    "#    atts = re.findall(atts_pattern,HTML)\n",
    "#    if atts and not comms:\n",
    "#        for i in atts:\n",
    "#            print(\"->\",\" > \".join(i))\n",
    "\n",
    "#n = int(input())\n",
    "#for i in range(n):\n",
    "#    HTML = input()\n",
    "#    handle_starttag(HTML)       \n",
    "#    handle_attributtes(HTML)"
   ]
  },
  {
   "cell_type": "markdown",
   "id": "361cfab4",
   "metadata": {},
   "source": [
    "#### HTML Parser - Part 1"
   ]
  },
  {
   "cell_type": "code",
   "execution_count": null,
   "id": "0985dcc1",
   "metadata": {},
   "outputs": [],
   "source": [
    "from html.parser import HTMLParser\n",
    "\n",
    "class MyHTMLParser(HTMLParser):\n",
    "    def handle_starttag(self, tag, attrs):\n",
    "        print('Start :', tag)\n",
    "        for attr in attrs:\n",
    "            print(f'-> {attr[0]} > {attr[1]}')\n",
    "    def handle_endtag(self, tag):\n",
    "        print('End   :', tag)  \n",
    "    def handle_startendtag(self, tag, attrs):\n",
    "        print('Empty :', tag)\n",
    "        for attr in attrs:\n",
    "            print(f'-> {attr[0]} > {attr[1]}')\n",
    "parser = MyHTMLParser()\n",
    "\n",
    "parser.feed(''.join([input().strip() for _ in range(int(input()))]))\n",
    "\n",
    "\n",
    "#I checked the Discussion Forum in order to look for help because I could not do this challenge on my own."
   ]
  },
  {
   "cell_type": "markdown",
   "id": "cf4341d2",
   "metadata": {},
   "source": [
    "#### HTML Parser - Part 2"
   ]
  },
  {
   "cell_type": "code",
   "execution_count": null,
   "id": "94462813",
   "metadata": {},
   "outputs": [],
   "source": [
    "from html.parser import HTMLParser\n",
    "\n",
    "class MyHTMLParser(HTMLParser):\n",
    "    def handle_comment(self, data):\n",
    "        print(f'>>> Multi-line Comment\\n{data}') if(data!='\\n' and '\\n' in data) else False\n",
    "        print(f'>>> Single-line Comment\\n{data}') if(data!='\\n' and '\\n' not in data) else False\n",
    "\n",
    "    def handle_data(self, data):\n",
    "        print(f'>>> Data\\n{data}') if(data!='\\n') else False\n",
    "  \n",
    "  \n",
    "html = \"\"       \n",
    "for i in range(int(input())):\n",
    "    html += input().rstrip()\n",
    "    html += '\\n'\n",
    "    \n",
    "parser = MyHTMLParser()\n",
    "parser.feed(html)\n",
    "parser.close()\n",
    "\n",
    "#I checked the Discussion Forum in order to look for help because I could not do this challenge on my own."
   ]
  },
  {
   "cell_type": "markdown",
   "id": "a5fa8459",
   "metadata": {},
   "source": [
    "#### Validating Postal Codes"
   ]
  },
  {
   "cell_type": "code",
   "execution_count": null,
   "id": "0e001e3e",
   "metadata": {},
   "outputs": [],
   "source": [
    "regex_integer_in_range = r\"^[1-9][0-9]{5}$\"    \n",
    "regex_alternating_repetitive_digit_pair = r\"(?=(\\d)\\d\\1)\"\n",
    "\n",
    "#I checked the Discussion Forum in order to look for help because I could not do this challenge on my own."
   ]
  },
  {
   "cell_type": "markdown",
   "id": "76b7402c",
   "metadata": {},
   "source": [
    "# PROBLEM 2"
   ]
  },
  {
   "cell_type": "markdown",
   "id": "ade0732a",
   "metadata": {},
   "source": [
    "#### Birthday Cake Candles"
   ]
  },
  {
   "cell_type": "code",
   "execution_count": null,
   "id": "673e3f08",
   "metadata": {},
   "outputs": [],
   "source": [
    "def birthdayCakeCandles(candles):\n",
    "    max_candle = max(candles)\n",
    "    count = 0\n",
    "    for i in candles:\n",
    "        if i == max_candle:\n",
    "            count += 1\n",
    "    return count\n",
    "\n",
    "if __name__ == '__main__':\n",
    "    fptr = open(os.environ['OUTPUT_PATH'], 'w')\n",
    "\n",
    "    candles_count = int(input().strip())\n",
    "\n",
    "    candles = list(map(int, input().rstrip().split()))\n",
    "\n",
    "    result = birthdayCakeCandles(candles)\n",
    "\n",
    "    fptr.write(str(result) + '\\n')\n",
    "\n",
    "    fptr.close()"
   ]
  },
  {
   "cell_type": "markdown",
   "id": "d47046bd",
   "metadata": {},
   "source": [
    "#### Number Line Jumps"
   ]
  },
  {
   "cell_type": "code",
   "execution_count": null,
   "id": "c82fe029",
   "metadata": {},
   "outputs": [],
   "source": [
    "#!/bin/python3\n",
    "\n",
    "import math\n",
    "import os\n",
    "import random\n",
    "import re\n",
    "import sys\n",
    "\n",
    "\n",
    "def kangaroo(x1, v1, x2, v2):\n",
    "    try:\n",
    "        if abs(x1 - x2) % abs(v1 - v2) == 0 and (x1 > x2 and v1 < v2):\n",
    "            return 'YES'\n",
    "        elif abs(x1 - x2) % abs(v1 - v2) == 0 and (x2 > x1 and v2 < v1):\n",
    "            return 'YES'\n",
    "        else:\n",
    "            return 'NO'\n",
    "    except ZeroDivisionError as e:\n",
    "        return 'NO'\n",
    "\n",
    "#This below is HackerRank's code for testing my code.   \n",
    "    \n",
    "if __name__ == '__main__':\n",
    "    fptr = open(os.environ['OUTPUT_PATH'], 'w')\n",
    "\n",
    "    first_multiple_input = input().rstrip().split()\n",
    "\n",
    "    x1 = int(first_multiple_input[0])\n",
    "\n",
    "    v1 = int(first_multiple_input[1])\n",
    "\n",
    "    x2 = int(first_multiple_input[2])\n",
    "\n",
    "    v2 = int(first_multiple_input[3])\n",
    "\n",
    "    result = kangaroo(x1, v1, x2, v2)\n",
    "\n",
    "    fptr.write(result + '\\n')\n",
    "\n",
    "    fptr.close()"
   ]
  },
  {
   "cell_type": "markdown",
   "id": "447119d3",
   "metadata": {},
   "source": [
    "#### Viral Advertising"
   ]
  },
  {
   "cell_type": "code",
   "execution_count": null,
   "id": "1e4be945",
   "metadata": {},
   "outputs": [],
   "source": [
    "#!/bin/python3\n",
    "\n",
    "import math\n",
    "import os\n",
    "import random\n",
    "import re\n",
    "import sys\n",
    "\n",
    "\n",
    "def viralAdvertising(n):\n",
    "    cumulative = 0\n",
    "    shared = 5\n",
    "    liked = 2 \n",
    "    for i in range(n):\n",
    "        liked = shared//2\n",
    "        shared = liked*3\n",
    "        cumulative += liked\n",
    "    return int(cumulative)\n",
    "\n",
    "#This below is HackerRank's code for testing my code.\n",
    "\n",
    "if __name__ == '__main__':\n",
    "    fptr = open(os.environ['OUTPUT_PATH'], 'w')\n",
    "\n",
    "    n = int(input().strip())\n",
    "\n",
    "    result = viralAdvertising(n)\n",
    "\n",
    "    fptr.write(str(result) + '\\n')\n",
    "\n",
    "    fptr.close()\n",
    "\n"
   ]
  },
  {
   "cell_type": "markdown",
   "id": "ba6b41a8",
   "metadata": {},
   "source": [
    "#### Recursive Digit Sum"
   ]
  },
  {
   "cell_type": "code",
   "execution_count": null,
   "id": "f3043dd8",
   "metadata": {},
   "outputs": [],
   "source": [
    "#!/bin/python3\n",
    "\n",
    "import math\n",
    "import os\n",
    "import random\n",
    "import re\n",
    "import sys\n",
    "\n",
    "\n",
    "def superDigit(n, k):\n",
    "    m = int(n) * k % 9\n",
    "    if m  !=0:\n",
    "        return m \n",
    "    else:\n",
    "        return 9 \n",
    "\n",
    "\n",
    "#This below is HackerRank's code for testing my code. \n",
    "\n",
    "if __name__ == '__main__':\n",
    "    fptr = open(os.environ['OUTPUT_PATH'], 'w')\n",
    "\n",
    "    first_multiple_input = input().rstrip().split()\n",
    "\n",
    "    n = first_multiple_input[0]\n",
    "\n",
    "    k = int(first_multiple_input[1])\n",
    "\n",
    "    result = superDigit(n, k)\n",
    "\n",
    "    fptr.write(str(result) + '\\n')\n",
    "\n",
    "    fptr.close()"
   ]
  },
  {
   "cell_type": "markdown",
   "id": "e2f9ec31",
   "metadata": {},
   "source": [
    "#### Insertion Sort - Part 1"
   ]
  },
  {
   "cell_type": "code",
   "execution_count": null,
   "id": "94bf5bd0",
   "metadata": {},
   "outputs": [],
   "source": [
    "#!/bin/python3\n",
    "\n",
    "import math\n",
    "import os\n",
    "import random\n",
    "import re\n",
    "import sys\n",
    "\n",
    "\n",
    "def insertionSort1(n, arr):\n",
    "    value = arr[n-1]\n",
    "    for i in range(len(arr)-1,-1,-1):\n",
    "        if arr[i] >= value and arr[i-1] >= value and i != 0:\n",
    "            arr[i] = arr[i-1]\n",
    "            print(*arr)\n",
    "        else:\n",
    "            arr[i] = value\n",
    "            print(*arr)\n",
    "            break\n",
    "\n",
    "#This below is HackerRank's code for testing my code. \n",
    "\n",
    "if __name__ == '__main__':\n",
    "    n = int(input().strip())\n",
    "\n",
    "    arr = list(map(int, input().rstrip().split()))\n",
    "\n",
    "    insertionSort1(n, arr)"
   ]
  },
  {
   "cell_type": "markdown",
   "id": "8192d5cc",
   "metadata": {},
   "source": [
    "#### Insertion Sort - Part 2"
   ]
  },
  {
   "cell_type": "code",
   "execution_count": null,
   "id": "896b633c",
   "metadata": {},
   "outputs": [],
   "source": [
    "## !/bin/python3\n",
    "\n",
    "import math\n",
    "import os\n",
    "import random\n",
    "import re\n",
    "import sys\n",
    "\n",
    "def insertionSort2(n, arr):\n",
    "    for i in range(1,n):\n",
    "        for j in range(i):\n",
    "            if arr[j] > arr[i]:\n",
    "                arr[i], arr[j] = arr[j], arr[i]\n",
    "        print(*arr) \n",
    "\n",
    "#In order to obtain the exact same output in every line I needed to check the Forum. \n",
    "#My original code (below) ordered the list but in a less efficient way:\n",
    "#for j in range(len(arr)-1,-1,-1):\n",
    "#    for i in range(len(arr)-1,-1,-1):  #iteramos sobre 6, 5,4,3,2,1,0   \n",
    "#        value = arr[i] #asignamos variable al ultimo valor de la lista\n",
    "#        if arr[i-1] > value and i !=0:\n",
    "#            temp = arr[i]\n",
    "#            arr[i] = arr[i-1]\n",
    "#            arr[i-1] = temp\n",
    "#            print(*arr)\n",
    "\n",
    "#This below is HackerRank's code for testing my code. \n",
    "\n",
    "if __name__ == '__main__':\n",
    "    n = int(input().strip())\n",
    "    arr = list(map(int, input().rstrip().split()))\n",
    "    insertionSort2(n, arr)"
   ]
  }
 ],
 "metadata": {
  "kernelspec": {
   "display_name": "Python 3",
   "language": "python",
   "name": "python3"
  },
  "language_info": {
   "codemirror_mode": {
    "name": "ipython",
    "version": 3
   },
   "file_extension": ".py",
   "mimetype": "text/x-python",
   "name": "python",
   "nbconvert_exporter": "python",
   "pygments_lexer": "ipython3",
   "version": "3.8.8"
  }
 },
 "nbformat": 4,
 "nbformat_minor": 5
}
